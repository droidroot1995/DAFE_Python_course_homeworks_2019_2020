{
 "cells": [
  {
   "cell_type": "markdown",
   "metadata": {},
   "source": [
    "# Численные методы"
   ]
  },
  {
   "cell_type": "markdown",
   "metadata": {},
   "source": [
    "## 1. Численное дифференцирование\n",
    "\n",
    "Q: В каких случаях используется численное вычисление производной?  \n",
    "A: Вычисление производных численными методами имеет смысл, либо в случае, когда аналитическое вычисление производной невозможно, либо в случае, когда аналитическое выражение неизвестно и функция задана набором точек.\n",
    "\n",
    "### 1.1 Методы односторонней разности\n",
    "\n",
    "Производная функции $f(x)$ определяется выражением:\n",
    "\n",
    "$$f'(x_{0}) = \\frac{df}{dx} = \\lim_{dx\\to0}\\frac{f(x_{0} + dx) - f(x_{0})}{dx}$$\n",
    "\n",
    "Заменяя $dx$ на конечную величину $\\Delta x$, которая называется шагом дифференцирования, получаем выражение:\n",
    "\n",
    "$$f'(x_{0}) = \\frac{f(x_{0} + \\Delta x) - f(x_{0})}{\\Delta x}$$\n",
    "\n",
    "В случае, когда дифференцируемая функция задана в виде непрерывной функции, то для вычисления значения дифференциала необходимо получить значение функции $f(x)$ в точке $x_{0}$ и в точке $x_{0}+\\Delta x$. После этого можно вычислить значение производной функции $f'(x)$.\n",
    "\n",
    "<img src=\"images/function_diff.jpg\" />\n",
    "\n",
    "Если функция задана выборкой, то есть набором значений функции в точках, то выражение для численного дифференцирования (при условии, что x образуют возрастающую последовательность) можно переписать в виде:\n",
    "\n",
    "$$f'_{i} = \\frac{f_{i+1}-f_{i}}{x_{i+1}-x_{i}}$$\n",
    "\n",
    "<img src=\"images/function_diff_discr.jpg\" />\n",
    "\n",
    "Как видно из этих выражений, значение производной в точке $x_{i}$ оценивается по значению функции в этой и в следующей точке $x_{i+1}$. Такой способ можно условно назвать **правосторонней разностью**. Нетрудно записать выражение для **левосторонней разности**:\n",
    "\n",
    "$$f'(x_{0}) = \\frac{f(x_{0}) - f(x_{0} - \\Delta x)}{\\Delta x}$$\n",
    "\n",
    "или\n",
    "\n",
    "$$f'_{i} = \\frac{f_{i}-f_{i-1}}{x_{i}-x_{i-1}}$$\n",
    "\n",
    "\n",
    "### 1.2 Метод двусторонней разности\n",
    "\n",
    "С точки зрения точности методы левосторонней и правосторонней разностей равнозначны. Более точное значение дает метод двусторонней разности (что особенно справедливо для гладких функций). Теорема Лагранжа говорит о том, что уравнение:\n",
    "\n",
    "$$f'(x_{0}) = \\frac{f(b) - f(a)}{b-a}$$\n",
    "\n",
    "(при условии, что $[a,b]$ – замкнутый промежуток, на котором функция $f(x)$ дифференцируема) имеет по меньшей мере один корень $x=\\zeta$. Значение этого корня, вообще говоря, зависит от вида функции $f(x)$. Если она квадратичная, то уравнение первой степени и его корень лежит в точности на середине отрезка $[a,b]$, то есть:\n",
    "\n",
    "$$\\zeta = \\frac{b + a}{2}$$\n",
    "\n",
    "Если $a$ имеет постоянное значение, а $b$ стремится к $a$, то один из корней, как правило (за исключением случаев, когда вторая производная $f''(a)$ равна нулю или не существует), стремится к середине отрезка, то есть $\\lim_{b\\to a} \\frac{\\zeta - a}{b - a} = \\frac{1}{2}$ . Поэтому более точное приближение к искомому значению производной функции в точке $x_{0}$ можно получить, воспользовавшись формулами двусторонней разности:\n",
    "\n",
    "$$f'(x_{0}) = \\frac{f(x_{0} + \\Delta x) - f(x_{0} - \\Delta x)}{2\\cdot{\\Delta x}}$$\n",
    "\n",
    "или, для функций заданных в виде выборки:\n",
    "\n",
    "$$f'_{i} = \\frac{f_{i+1}-f_{i-1}}{x_{i+1}-x_{i-1}}$$\n",
    "\n",
    "Наглядно  сравнить  одностороннюю  и  двустороннюю  разности  можно представив производную, как  тангенс угла наклона касательной к функции в точке $x_{i}$. На рисунке точное значение производной обозначено как $\\tan a_{1}$. В методе  односторонней  разности вместо  касательной  проводится прямая через точки $x_{i}$ и $x_{i+1}$. Если в окрестностях точки $x_{i}$ функция не гладкая, то значение производной ($\\tan a_{2}$) будет существенно отличаться от точного. В то время как  в  методе двусторонней разности, проведя прямую через точки $x_{i-1}$  и  $x_{i+1}$, можно получить значение производной практически совпадающее с точным.\n",
    "\n",
    "<img src=\"images/function_diff_two.jpg\" />\n",
    "\n",
    "### 1.3 Частное дифференцирование функции многих переменных\n",
    "\n",
    "\n",
    "Отдельно  следует  отметить  случай  численного  определения  частных дифференциалов функций многих переменных. В этом случае все аргументы функции  становятся константами  кроме аргумента,  по которому проводится дифференцирование,  а  требуемый  порядок производной  получается  путем последовательного вычисления производных, вплоть до требуемого порядка:\n",
    "\n",
    "$$\\frac{df}{dx_{i}} = \\frac{f(...,x_{i} + \\Delta x_{i},...) - f(...,x_{i},...)}{\\Delta x_{i}}$$\n",
    "\n",
    "### 1.4 Производные высоких порядков\n",
    "\n",
    "При  вычислении  производных  высоких  порядков  производная  (n)-го порядка   считается   первой   производной   от   (n-1)-го порядка.   Так   вторая производная функции является первой производной от первой производной:\n",
    "\n",
    "$f''(x) = (f'(x))'$    или    $\\frac{d^{2}f}{dx^{2}} = \\frac{d}{dx}(\\frac{df}{dx})$\n",
    "\n",
    "Тогда выражение для вычисления производной примет вид:\n",
    "\n",
    "$$\\frac{d^{2}f}{dx^{2}} = \\frac{d}{dx}(\\frac{df}{dx}) = \\frac{f'_{1} - f'_{-1}}{2\\Delta x} = \\frac{\\frac{f'_{2} - f'_{0}}{2\\Delta x} - \\frac{f'_{0} - f'_{-2}}{2\\Delta x}}{2\\Delta x} =\\frac{f'_{2} - 2f'_{0} + f'_{-2}}{(2\\Delta x)^{2}}$$\n",
    "\n",
    "### Задание:\n",
    "#### Реализовать расчет производной для заданной функции в точке из интервала $[x_{0}, x_{1}]$, построить её график"
   ]
  },
  {
   "cell_type": "code",
   "execution_count": 1,
   "metadata": {},
   "outputs": [
    {
     "name": "stdout",
     "output_type": "stream",
     "text": [
      "2.2448709557920665\n"
     ]
    }
   ],
   "source": [
    "import matplotlib.pyplot as plt\n",
    "import numpy as np\n",
    "\n",
    "def func_p(f, x0, x1, n, point):\n",
    "    delta = 0.0000000000001\n",
    "    h = (x1 - x0) / n\n",
    "    y = []\n",
    "    x = np.linspace(x0, x1, n)\n",
    "    for i in x:\n",
    "        p = 0.5 * (f(i + delta) - f(i - delta)) / delta\n",
    "        y.append(p) \n",
    "    plt.plot(x, y)\n",
    "    return 0.5 * (f(point + delta) - f(point - delta)) / delta\n",
    "\n",
    "def f(x):\n",
    "    return x * x\n",
    "\n",
    "x = func_p(f, -10, 10, 100, 1.1234)\n",
    "print(x)"
   ]
  },
  {
   "cell_type": "markdown",
   "metadata": {},
   "source": [
    "## 2. Численное интегрирование\n",
    "\n",
    "Q: В каких случаях применяется численное интегрирование?  \n",
    "A: Численное интегрирование применяется, когда:  \n",
    "- сама подынтегральная функция не задана аналитически, а например, представлена в виде таблицы значений\n",
    "- аналитическое представление подынтегральной функции известно, но её первообразная не выражается через аналитические функции\n",
    "\n",
    "### 2.1 Задача численного интегрирования\n",
    "\n",
    "В ряде задач возникает необходимость вычисления определенного интеграла от некоторой функции:\n",
    "\n",
    "$$I = \\int_{a}^{b} f(x)dx$$\n",
    "\n",
    "где $f(x)$ – подынтегральная функция, непрерывная на отрезке $[a,b]$.\n",
    "Геометрический смысл интеграла заключается в том, что если $f(x) \\geq 0$ на отрезке $[a,b]$, то интеграл $\\int_{a}^{b} f(x)dx$ численно равен площади фигуры, ограниченной графиком функции $y = f(x)$, отрезком оси абсцисс, прямой $x = a$ и прямой $x = b$. Таким образом, вычисление интеграларавносильно вычислению площади криволинейной трапеции.\n",
    "\n",
    "<img src=\"images/function_int.jpg\" />\n",
    "\n",
    "Задача численного интегрирования состоит в замене исходной подынтегральной функции некоторой аппроксимирующей функцией (обычно полиномом).\n",
    "\n",
    "Способы численного вычисления определенных интегралов основаны на замене интеграла конечной суммой:\n",
    "\n",
    "$$\\int_{a}^{b} f(x)dx \\approx \\sum_{j=1}^{N} c_{j}\\cdot{f(x_{j})}$$\n",
    "\n",
    "где $c_{j}$ – числовые коэффициенты, выбор которых зависит от выбранного метода численного интегрирования, $x_{j}$ – узлы интегрирования $(x_{j} \\in [a,b], j = 1,...,N )$. Выражение называют квадратурной формулой.\n",
    "\n",
    "Разделим отрезок $[a,b]$ на $N$ равных частей, то есть на $N$ элементарных отрезков. Длина каждого элементарного отрезка:\n",
    "\n",
    "$$h = \\frac{b - a}{N}$$\n",
    "\n",
    "Тогда значение интеграла можно представить в виде:\n",
    "\n",
    "$$\\int_{a}^{b} f(x)dx \\approx \\sum_{j=1}^{N} \\int_{x_{j-1}}^{x_{j}} f(x)dx$$\n",
    "\n",
    "Из этого выражения видно, что для численного интегрирования на отрезке $[a,b]$, достаточно построить квадратурную формулу на каждом частичном отрезке $[x_{j-1}, x_{j}]$.\n",
    "\n",
    "Погрешность квадратурной формулы определяется выражением:\n",
    "\n",
    "$$\\Psi_{N} = \\int_{a}^{b} f(x)dx - \\sum_{j=1}^{N} c_{j}\\cdot{f(x_{j})}$$\n",
    "\n",
    "и зависит от выбора коэффициентов $c_{j}$ и от расположения узлов $x_{j}$.\n",
    "\n",
    "Погрешность численного интегрирования определяется шагом разбиения. Уменьшая этот шаг, можно добиться большей точности. Однако\n",
    "увеличивать число точек не всегда возможно. Если функция задана в табличном виде, приходится ограничиваться заданным множеством точек. Повышение точности может быть в этом случае достигнуто за счет повышения степени используемых интерполяционных многочленов.\n",
    "\n",
    "**Формулы Ньютона-Котеса** получаются путем замены подынтегральной функции интерполяционным многочленом Лагранжа с разбиением каждого частичного отрезка интегрирования на n равных частей. Получившиеся формулы используют значения подынтегральной функции в узлах интерполяции и являются точными для всех многочленов степени х зависящей от числа узлов. Точность решения растет с увеличением степени интерполяционного многочлена.\n",
    "\n",
    "**Метод Гаусса** не предполагает разбиения отрезка интегрирования на равные промежутки. Формулы численного интегрирования интерполяционного типа ищутся таким образом, чтобы они обладали наивысшим порядком точности при заданном числе узлов. Узлы и коэффициенты формул численного интегрирования находятся из условий обращения в нуль их остаточных членов для всех многочленов максимально высокой степени.\n",
    "\n",
    "### 2.2 Методы Ньютона-Котеса\n",
    "\n",
    "#### Метод прямоугольников\n",
    "\n",
    "Одним из простейших методов численного интегрирования является метод прямоугольников. На частичном отрезке $[x_{j-1}, x_{j}]$ подынтегральную функцию заменяют полиномом Лагранжа нулевого порядка, построенным в одной точке. В качестве этой точки можно выбрать середину частичного отрезка $x_{j-0.5} = x_{j} - 0.5h$ . Тогда значение интеграла на частичном отрезке:\n",
    "\n",
    "$$\\int_{x_{j-1}}^{x_{j}} f(x)dx \\approx f(x_{j-0.5})\\cdot{h}$$\n",
    "\n",
    "Подставив это выражение в $\\int_{a}^{b} f(x)dx \\approx \\sum_{j=1}^{N} \\int_{x_{j-1}}^{x_{j}} f(x)dx$, получим составную формулу **средних прямоугольников**:\n",
    "\n",
    "$$\\int_{a}^{b} f(x)dx \\approx \\sum_{j=1}^{N} f(x_{j-0.5})\\cdot{h}$$\n",
    "\n",
    "Графическая иллюстрация метода средних прямоугольников представлена на риcунке. Из него видно, что площадь криволинейной трапеции приближенно заменяется площадью многоугольника, составленного из $N$ прямоугольников. Таким образом, вычисление определенного интеграла сводится к нахождению суммы N элементарных прямоугольников.\n",
    "Предыдущую формулу можно представить в ином виде:\n",
    "\n",
    "$$\\int_{a}^{b} f(x)dx \\approx \\sum_{j=1}^{N} f(x_{j-1})\\cdot{h}$$ или $$\\int_{a}^{b} f(x)dx \\approx \\sum_{j=1}^{N} f(x_{j})\\cdot{h}$$\n",
    "\n",
    "Эти формулы называются формулой **левых и правых прямоугольников соответственно**. Графически метод левых и правых прямоугольников представлен на рисунке. Однако из-за нарушения симметрии в формулах правых и левых прямоугольников, их погрешность значительно больше, чем в методе средних прямоугольников.\n",
    "\n",
    "<img src=\"images/integrate_rect.jpg\" />\n",
    "\n",
    "### Задание:\n",
    "#### Реализовать вычисление интеграла методом прямоугольников"
   ]
  },
  {
   "cell_type": "code",
   "execution_count": 2,
   "metadata": {},
   "outputs": [],
   "source": [
    "def method_pr(f, a, b, n):\n",
    "    h = float(b - a) / n\n",
    "    res = f(a + 0.5 * h)\n",
    "    for i in range(1, n):\n",
    "        res += f(a + 0.5 * h + i * h)\n",
    "    return res * h"
   ]
  },
  {
   "cell_type": "markdown",
   "metadata": {},
   "source": [
    "#### Метод трапеций\n",
    "\n",
    "Если на частичном отрезке $[x_{j-1}, x_{j}]$ подынтегральную функцию заменить полиномом Лагранжа первой степени:\n",
    "\n",
    "$$f(x) = L_{1, j}(x) = \\frac{1}{h}[(x-x_{j-1})f(x_{j})-(x-x_{j})f(x_{j-1})]$$\n",
    "\n",
    "то искомый интеграл на частичном отрезке запишется следующим образом:\n",
    "\n",
    "$$\\int_{x_{j-1}}^{x_{j}} f(x)dx \\approx \\frac{1}{h} [f(x_{j})\\int_{x_{j-1}}^{x_{j}}(x-x_{j-1})dx - f(x_{j-1})\\int_{x_{j-1}}^{x_{j}}(x-x_{j})dx] = \\frac{f(x_{j-1}) + f(x_{j})}{2}h$$\n",
    "\n",
    "Тогда составная формула трапеций на всем отрезке интегрирования $[a,b]$ примет вид:\n",
    "\n",
    "$$\\int_{a}^{b} f(x)dx \\approx \\sum_{j=1}^{N} \\frac{f(x_{j}) + f(x_{j-1})}{2}h = h[\\frac{1}{2}(f_{1} + f_{N}) + f_{2} + ... + f_{N-1}]$$\n",
    "\n",
    "Графически метод трапеций представлен на рисунке. Площадь криволинейной трапеции заменяется площадью многоугольника, составленного из $N$ трапеций, при этом кривая заменяется вписанной в нее ломаной. На каждом из частичных отрезков функция аппроксимируется прямой, проходящей через конечные значения, при этом площадь трапеции на каждом отрезке определяется по формуле.\n",
    "\n",
    "Погрешность метода трапеций выше, чем у метода средних прямоугольников. Однако на практике найти среднее значение на элементарном интервале можно только у функций, заданных аналитически (а не таблично), поэтому использовать метод средних прямоугольников удается далеко не всегда.\n",
    "\n",
    "<img src=\"images/integrate_trapezium.jpg\" />\n",
    "\n",
    "### Задание:\n",
    "#### Реализовать вычисление интеграла методом трапеции"
   ]
  },
  {
   "cell_type": "code",
   "execution_count": 3,
   "metadata": {},
   "outputs": [],
   "source": [
    "def method_tr(f, a, b, n):\n",
    "    h = float(b - a) / n\n",
    "    res = 0.5 * (f(a) + f(b))\n",
    "    for i in range(1, n):\n",
    "        res += f(a + i * h)\n",
    "    return res * h"
   ]
  },
  {
   "cell_type": "markdown",
   "metadata": {},
   "source": [
    "#### Метод Симпсона\n",
    "\n",
    "В этом методе подынтегральная функция на частичном отрезке $[x_{j-1}, x_{j}]$ аппроксимируется параболой, проходящей через три точки $x_{j-1}$, $x_{j-0.5}$, $x_{j}$, то есть интерполяционным многочленом Лагранжа второй степени:\n",
    "\n",
    "$$f(x)=L_{2,j}(x)=\\frac{2}{h^2}[(x-x_{j-0.5})(x-x_{j})f(x_{j-1})-2\\cdot{(x-x_{j-1})(x-x_{j})f(x_{j-0.5})}+(x-x_{j-1})(x-x_{j-0.5})f(x_{j})]$$\n",
    "\n",
    "Проведя интегрирование, получим:\n",
    "\n",
    "$$\\int_{x_{j-1}}^{x_{j}}f(x)dx \\approx \\frac{h}{6}(f_{j-1}+4f_{j-0.5}+f_{j})$$\n",
    "\n",
    "Это и есть формула Симпсона или формула парабол. На отрезке $[a,b]$ формула Симпсона примет вид:\n",
    "\n",
    "$$\\int_{a}^{b}f(x)dx \\approx \\frac{h}{6}[f_{0} + f_{N}+2(f_{1}+f_{2}+...+f_{N-1})+4(f_{0.5}+f_{1.5}+f_{2.5}+...+f_{N-0.5})]=\\frac{h}{6}[f_{0}+f_{N}+2\\sum_{j=1}^{N-1} f_{j} + 4\\sum_{j=0.5}^{N-0.5} f_{j}]$$\n",
    "\n",
    "Если разбить отрезок интегрирования $[a,b]$ на четное количество $2N$ равных частей с шагом $h=\\frac{b-a}{2N}$ , то можно построить параболу на каждом сдвоенном частичном отрезке $[x_{j-1}, x_{j}]$ и переписать выражения без дробных индексов. Тогда формула Симпсона примет вид:\n",
    "\n",
    "$$\\int_{a}^{b}f(x)dx \\approx \\frac{h}{3}[f_{0} + f_{2N}+2(f_{2}+f_{4}+...+f_{2N-2})+4(f_{1}+f_{3}+f_{5}+...+f_{2N-1})]=\\frac{h}{3}[f_{0}+f_{2N}+2\\sum_{j=2,2}^{2N-2} f_{j} + 4\\sum_{j=1,2}^{2N-1} f_{j}]$$\n",
    "\n",
    "Графическое представление метода Симпсона показано на рисунке. На каждом из сдвоенных частичных отрезков заменяем дугу данной кривой параболой.\n",
    "\n",
    "<img src=\"images/integrate_simpson.jpg\" />\n",
    "\n",
    "### Задание:\n",
    "#### Реализовать вычисление интеграла методом Симпсона"
   ]
  },
  {
   "cell_type": "code",
   "execution_count": 4,
   "metadata": {},
   "outputs": [],
   "source": [
    "def method_s(f, a, b, n):\n",
    "    h = float(b - a) / 2 / n \n",
    "    res = f(a) + f(b)\n",
    "    for i in range(2, 2 * n - 1, 2):\n",
    "        res += (2 * f(a + i * h))\n",
    "    for i in range(1, 2 * n, 2):\n",
    "        res += 4 * f(a + i * h)  \n",
    "    return res * (h / 3)    \n",
    "    "
   ]
  },
  {
   "cell_type": "markdown",
   "metadata": {},
   "source": [
    "#### Семейство методов Ньютона-Котеса\n",
    "\n",
    "Выше были рассмотрены три схожих метода интегрирования функций – метод прямоугольников, метод трапеций, метод Симпсона. Их объединяет общая идея: интегрируемая функция интерполируется на отрезке интегрирования по равноотстоящим узлам многочленом Лагранжа, для которого аналитически вычисляется значение интеграла. Семейство методов, основанных на таком подходе, называется **методами Ньютона-Котеса**.\n",
    "\n",
    "В выражении $\\int_{a}^{b} f(x)dx \\approx \\sum_{j=1}^{N} c_{j}\\cdot{f(x_{j})}$ коэффициенты $c_{j}$ правильнее называть **весовыми коэффициентами**. Величину $\\Psi_{N} = \\int_{a}^{b} f(x)dx - \\sum_{j=1}^{N} c_{j}\\cdot{f(x_{j})}$, определяющую погрешность численного интегрирования, называют **остатком**.\n",
    "Для семейства методов Ньютона-Котеса можно записать общее выражение:\n",
    "\n",
    "$$\\int_{a}^{b} f(x)dx \\approx \\frac{n\\cdot{h}}{C_{n}}\\sum_{j=1}^{N}\\sum_{i=0}^{n}c_{in}f(x_{i})$$\n",
    "\n",
    "где $n$ – порядок метода Ньютона-Котеса, $N$ – количество частичных отрезков, $h=\\frac{x_{j}-x_{j-1}}{n}$, $C_{n} = \\sum_{i=0}^{n} c_{in}$, $x_{i}=x_{j} + i\\cdot{h}$.\n",
    "\n",
    "Из выражения легко можно получить формулу прямоугольников для $n=0$, формулу трапеций для $n = 1$, и формулу Симпсона для $n=2$. Коэффициенты $c_{in}$ могут быть заданы в табличной форме.\n",
    "\n",
    "*Таблица:  Весовые коэффициенты метода Ньютона-Котеса*\n",
    "\n",
    "<img src=\"images/newton_kotes.jpg\" />\n",
    "\n",
    "### Задание\n",
    "#### Вычислить интеграл заданной функции на отрезке всеми тремя способами, построить её график и сравнить результаты вычисления."
   ]
  },
  {
   "cell_type": "code",
   "execution_count": 5,
   "metadata": {},
   "outputs": [
    {
     "name": "stdout",
     "output_type": "stream",
     "text": [
      "(0.9416392578721505, 1.0454295849806067e-14)\n",
      "0.9416392610849125\n",
      "0.9416392514466269\n",
      "0.9416392578721484\n"
     ]
    },
    {
     "data": {
      "image/png": "[encoded data removed]",
      "text/plain": [
       "<Figure size 432x288 with 1 Axes>"
      ]
     },
     "metadata": {
      "needs_background": "light"
     },
     "output_type": "display_data"
    }
   ],
   "source": [
    "import scipy.integrate as scint\n",
    "\n",
    "def func(x):\n",
    "    return 1 / np.abs(4 - np.sin(x / 2))\n",
    "\n",
    "x = np.linspace(0, np.pi, 2000)\n",
    "y = func(x)\n",
    "\n",
    "plt.plot(x, y)\n",
    "print(scint.quad(func, 0, np.pi))\n",
    "print(method_pr(func, 0, np.pi, 2000))\n",
    "print(method_tr(func, 0, np.pi, 2000))\n",
    "print(method_s(func, 0, np.pi, 2000))"
   ]
  },
  {
   "cell_type": "markdown",
   "metadata": {},
   "source": [
    "## Задачи с начальными условиями для систем обыкновенных дифференциальных уравнений\n",
    "Рассмотрим задачу Коши для системы обыкновенных дифференциальных уравнений\n",
    "\n",
    "$$\\tag{1} \\frac{d u_i}{d t} = f_i (t, u_1, u_2, \\ldots, u_n), \\quad t > 0$$\n",
    "\n",
    "$$\\tag{2} u_i(0) = u_i^0, \\quad i = 1, 2, \\ldots, m.$$\n",
    "\n",
    "Используя векторные обозначения, задачу $(1), (2)$ можно записать как задачу Коши\n",
    "\n",
    "$$\\tag{3} \\frac{d \\pmb{u}}{d t} = \\pmb{F}(t, \\pmb{u}), \\quad t > 0,$$ \n",
    "$$\\tag{4} \\pmb{u}(0) = \\pmb{u}_0$$\n",
    "\n",
    "В задаче Коши необходимо по известному решению в точке $t=0$ необходимо найти из уравнения $(3)$ решение при других $t$.\n",
    "\n",
    "### Численные методы решения задачи Коши\n",
    "Существует большое количество методов численного решения задачи $(3), (4)$. Вначале рассмотрим простейший явный метод Эйлера и его программную реализацию. Затем будут представлены методы Рунге—Кутта и многошаговые методы.\n",
    "\n",
    "При построении численных алгоритмов будем считать, что решение этой дифференциальной задачи существует, оно единственно и обладает необходимыми свойствами гладкости.\n",
    "\n",
    "Идея численных методов решения задачи $(3), (4)$ состоит из четырех частей:\n",
    "\n",
    "1. Вводится расчетная сетка по переменной $t$ (время) из $N_t+1$ точки $t_0, t_1, …, t_{N_{t}}$. Нужно найти значения неизвестной функции $\\pmb{u}$ в узлах сетки $t_n$. Обозначим через $\\pmb{y}^n$ приближенное значение $\\pmb{u}(t_n)$.\n",
    "\n",
    "2. Предполагаем, что дифференциальное уравнение выполнено в узлах сетки.\n",
    "\n",
    "3. Аппроксимируем производные конечными разностями.\n",
    "\n",
    "4. Формулируем алгоритм, который вычисляет новые значения $\\pmb{y}^{n+1}$ на основе предыдущих вычисленных значений $\\pmb{y}^k, k<n$.\n",
    "\n",
    "Метод сходится в точке $t_n$ , если $|\\pmb{y}^n−\\pmb{u}(t_n)|→0$ при $τ→0$. Метод имеет $p$-ый порядок точности, если $|\\pmb{y}^n−\\pmb{u}(t_n)|=O(τ^p), p>0$ при $τ→0$.\n",
    "\n",
    "### Явный метод Эйлера\n",
    "Проиллюстрируем указанные шаги. Для начала введем расчетную сетку. Очень часто сетка является равномерной, т.е. имеет одинаковое расстояние между узлами $tn$ и $tn+1$:\n",
    "\n",
    "$$\\omega_\\tau = \\{ t_n = n \\tau, n = 0, 1, \\ldots, N_t \\}.$$\n",
    "\n",
    "Затем, предполагаем, что уравнение выполнено в узлах сетки, т.е.:\n",
    "\n",
    "$$\\pmb{u}^\\prime (t_n) = \\pmb{F}(t_n, u(t_n)), \\quad t_n \\in \\omega_\\tau.$$\n",
    "\n",
    "Заменяем производные конечными разностями. С этой целью, нам нужно знать конкретные формулы, как производные могут быть аппроксимированы конечными разностями. Простейший подход заключается в использовании определения производной:\n",
    "\n",
    "$$\\pmb{u}^\\prime(t) = \\lim_{\\tau \\to 0} \\frac{\\pmb{u}(t+\\tau) - \\pmb{u}(t)}{\\tau}.$$\n",
    "\n",
    "В произвольном узле сетки tn это определение можно переписать в виде:\n",
    "\n",
    "$$\\pmb{u}^\\prime(t_n) = \\lim_{\\tau \\to 0} \\frac{\\pmb{u}(t_n+\\tau) - \\pmb{u}(t_n)}{\\tau}.$$\n",
    "\n",
    "Вместо того, чтобы устремлять шаг сетки к нулю, мы можем использовать малый шаг τ, который даст численное приближение $u′(t_n)$:\n",
    "\n",
    "$$\\pmb{u}^\\prime(t_n) \\approx \\frac{\\pmb{u}^{n+1} - \\pmb{u}^{n}}{\\tau}.$$\n",
    "\n",
    "Такая аппроксимация известна как разностная производная вперед и имеет первый порядок по $τ$, т.е. $O(τ)$. Теперь можно использовать аппроксимацию производной. Таким образом получим явный метод Эйлера:\n",
    "\n",
    "$$\\tag{5} \\frac{\\pmb{y}^{n+1} - \\pmb{y}^n}{\\tau} = \\pmb{F}(t_n, \\pmb{y}^{n}).$$\n",
    "\n",
    "Четвертый шаг заключается в получении численного алгоритма. Из $(5)$ следует, что мы должны знать значение $y_n$ для того, чтобы решить уравнение $(5)$ относительно $y^{n+1}$ и получить формулу для нахождения приближенного значения искомой функции на следующем временном слое $t_{n+1}$:\n",
    "\n",
    "$$\\tag{6} \\pmb{y}^{n+1} = \\pmb{y}^n + \\tau \\pmb{F}(t_n, \\pmb{y}^{n})$$\n",
    "\n",
    "При условии, что у нас известно начальное значение $\\pmb{y}^0=\\pmb{u}_0$, мы можем использовать $(6)$ для нахождения решений на последующих временных слоях.\n",
    "\n",
    "### Задание\n",
    "#### Реализовать явный метод Эйлера"
   ]
  },
  {
   "cell_type": "code",
   "execution_count": 6,
   "metadata": {},
   "outputs": [],
   "source": [
    "import numpy as np\n",
    "import matplotlib.pyplot as plt\n",
    "\n",
    "def J_E(func, u0, tau, T):\n",
    "    N = int(round(T / tau))\n",
    "    t = np.linspace(0, N * tau, N + 1)\n",
    "    u = np.zeros((N + 1, len(u0)))\n",
    "    u[0] = np.array(u0)\n",
    "    for i in range(N):\n",
    "        u[i + 1] = u[i] + tau * np.asarray(func(t[i], u[i]))\n",
    "    return u, t"
   ]
  },
  {
   "cell_type": "markdown",
   "metadata": {},
   "source": [
    "### Неявный метод Эйлера\n",
    "При построении неявного метода Эйлера значение функции $F$ берется на новом временном слое, т.е. для решении задачи $(5)$ используется следующий метод:\n",
    "\n",
    "$$\\tag{7} \\frac{\\pmb{y}^{n+1} - \\pmb{y}^n}{\\tau} = \\pmb{F}(t_{n+1}, \\pmb{y}^{n+1}).$$\n",
    "\n",
    "Таким образом для нахождения приближенного значения искомой функции на новом временном слое $t_{n+1}$ нужно решить нелинейное уравнение относительно $\\pmb{y}^{n+1}$:\n",
    "\n",
    "$$\\tag{8} \\pmb{y}^{n+1} - \\tau \\pmb{F}(t_{n+1}, \\pmb{y}^{n+1}) - y^n = 0.$$\n",
    "\n",
    "Для решения уравнения $(8)$ можно использовать, например, метод Ньютона.\n",
    "\n",
    "### Задание\n",
    "#### Реализовать неявный метод Эйлера"
   ]
  },
  {
   "cell_type": "code",
   "execution_count": 7,
   "metadata": {},
   "outputs": [],
   "source": [
    "from scipy import optimize\n",
    "\n",
    "def NJ_E(func, u0, tau, T):\n",
    "    N = int(round(T / tau))\n",
    "    t = np.linspace(0, N * tau, N + 1)\n",
    "    u = np.zeros((N+1, len(u0)))\n",
    "    u[0] = np.array(u0)\n",
    "    for n in range(N_t):\n",
    "        u[n + 1] = optimize.fsolve(lambda z, t, v: z - tau * np.asarray(func(t, z)) - v, u[n], args=(t[n], u[n]))\n",
    "    return u, t\n"
   ]
  },
  {
   "cell_type": "markdown",
   "metadata": {},
   "source": [
    "### Методы Рунге—Кутта\n",
    "Одношаговый метод Рунге—Кутта в общем виде записывается следующим образом:\n",
    "\n",
    "$$\\tag{9} \\frac{\\pmb{y}^{n+1} - \\pmb{y}^n}{\\tau} = \\sum_{i = 1}^s b_i \\pmb{k}_i,$$\n",
    "\n",
    "где\n",
    "\n",
    "$$\\tag{10} \\pmb{k}_i = \\pmb{F}\\left( t_n + c_i\\tau, \\pmb{y}^n + \\tau \\sum_{j=1}^s a_{ij}\\pmb{k}_j\\right), \\quad i = 1, 2, \\ldots, s.$$\n",
    "\n",
    "Формула $(9)$ основана на $s$ вычислениях функции $\\pmb{F}$ и называется $s$-стадийной. Если $a_{ij}=0$ при $j≥i$ имеем явный метод Рунге—Кутта. Если $a_{ij}=0$ при $j>i$ и $a_{ii}≠0$, то $\\pmb{k}_i$ определяется неявно из уравнения\n",
    "\n",
    "$$\\tag{11} \\pmb{k}_i = \\pmb{F}\\left( t_n + c_i\\tau, \\pmb{y}^n + \\tau \\sum_{j=1}^{i-1} a_{ij}\\pmb{k}_j + \\tau a_{ii} \\pmb{k}_i \\right), \\quad i = 1, 2, \\ldots, s.$$\n",
    "\n",
    "О таком методе Рунге—Кутта говорят как о диагонально-неявном.\n",
    "\n",
    "Одним из наиболее распространенных является явный метод Рунге-Кутта четвертого порядка:\n",
    "\n",
    "$$\\tag{12} \\pmb{k}_1 = \\pmb{F}(t_n, \\pmb{y}^n), \\quad \\pmb{k}_2 = \\pmb{F}\\left( t_n + \\frac{\\tau}{2}, \\pmb{y}^n + \\tau \\frac{\\pmb{k}_1}{2} \\right),\\\\ \n",
    "\\pmb{k}_3 = \\pmb{F}\\left( t_n + \\frac{\\tau}{2}, \\pmb{y}^n + \\tau\n",
    "\\frac{\\pmb{k}_2}{2} \\right), \\quad\n",
    "\\pmb{k}_4 = \\pmb{F}\\left( t_n + \\tau, \\pmb{y}^n + \\tau \\pmb{k}_3 \\right),\\\\ \n",
    "\\frac{\\pmb{y}^{n+1} -\\pmb{y}^n}{\\tau} = \\frac{1}{6} (\\pmb{k}_1 + 2\\pmb{k}_2 + 2\\pmb{k}_3\n",
    "+ \\pmb{k}_4)\\\\\n",
    "t_{n+1} = t_n + \\tau$$\n",
    "\n",
    "### Задание\n",
    "#### Реализовать метод Рунге-Кутты 4 порядка для случая $y'(t) = t\\sqrt{y(t)}$ с начальными условиями $t_0=0, \\ y_0=y(t_0)=y(0)=1$, $t=0,\\ldots,10,\\ \\delta t = \\tau=0.1$ и сравнить все значения $y$ с точным решением $y(t)=\\frac{1}{16}(t^2+4)^2$."
   ]
  },
  {
   "cell_type": "code",
   "execution_count": 8,
   "metadata": {
    "scrolled": true
   },
   "outputs": [
    {
     "data": {
      "text/plain": [
       "[<matplotlib.lines.Line2D at 0x24890baf438>]"
      ]
     },
     "execution_count": 8,
     "metadata": {},
     "output_type": "execute_result"
    },
    {
     "data": {
      "image/png": "[encoded data removed]",
      "text/plain": [
       "<Figure size 432x288 with 1 Axes>"
      ]
     },
     "metadata": {
      "needs_background": "light"
     },
     "output_type": "display_data"
    }
   ],
   "source": [
    "from sympy import *\n",
    "import numpy as np\n",
    "import matplotlib.pyplot as plt\n",
    "\n",
    "t,y = symbols('t y')\n",
    "N, dt, t0, t1, y0 = 4, 0.1, 0, 1, 1\n",
    "F = t * (y ** 0.5)\n",
    "Y = [y0]\n",
    "T = [t0]\n",
    "k = [ 0 for i in range(N)]\n",
    "for i in range(int((t1 - t0) / dt)):\n",
    "    k[0] = F.subs([(y, Y[-1]), (t, T[-1])])\n",
    "    k[1] = F.subs([(y, Y[-1] + dt*k[0]*0.5), (t, T[-1] + dt*0.5)])\n",
    "    k[2] = F.subs([(y, Y[-1] + dt*k[1]*0.5), (t, T[-1] + dt*0.5)])\n",
    "    k[3] = F.subs([(y, Y[-1] + dt*k[2]), (t, T[-1] + dt)])\n",
    "    Y.append(Y[-1] + dt*(k[0] + 2*k[1] + 2*k[2] + k[3])/6)\n",
    "    T.append(T[-1] + dt)\n",
    "plt.plot(T, Y)"
   ]
  },
  {
   "cell_type": "code",
   "execution_count": 9,
   "metadata": {},
   "outputs": [
    {
     "data": {
      "text/plain": [
       "[<matplotlib.lines.Line2D at 0x24890c03278>]"
      ]
     },
     "execution_count": 9,
     "metadata": {},
     "output_type": "execute_result"
    },
    {
     "data": {
      "image/png": "[encoded data removed]",
      "text/plain": [
       "<Figure size 432x288 with 1 Axes>"
      ]
     },
     "metadata": {
      "needs_background": "light"
     },
     "output_type": "display_data"
    }
   ],
   "source": [
    "x = np.linspace(t0, t1, int((t1 - t0) / dt))\n",
    "plt.plot(x, ((4 + x ** 2) ** 2) / 16)"
   ]
  },
  {
   "cell_type": "markdown",
   "metadata": {},
   "source": [
    "### Многошаговые методы\n",
    "В методах Рунге—Кутта в вычислениях участвуют значения приближенного решения только в двух соседних узлах $\\pmb{y}^n$ и $\\pmb{y}^{n+1}$ — один шаг по переменной $t$. Линейный $m$-шаговый разностный метод записывается в виде\n",
    "\n",
    "$$\\tag{13} \\frac{1}{\\tau} \\sum_{i=0}^m a_i \\pmb{y}^{n+1-i} = \\sum_{i=0}^{m} b_i \\pmb{F}(t_{n+1-i}, \\pmb{y}^{n+1-i}), \\quad n = m-1, m, \\ldots$$\n",
    "\n",
    "Вариант численного метода определяется заданием коэффициентов $a_i, b_i, i=0,1,…,m$, причем $a_0≠0$. Для начала расчетов по рекуррентной формуле $(13)$ необходимо задать $m$ начальных значений $\\pmb{y}^0, \\pmb{y}^1, …, \\pmb{y}^{m−1}$ (например, можно использовать для их вычисления метод Эйлера).\n",
    "\n",
    "Различные варианты многошаговых методов (методы Адамса) решения задачи с начальными условиями для систем обыкновенных дифференциальных уравнений могут быть получены на основе использования квадратурных формул для правой части равенства\n",
    "\n",
    "$$\\tag{14} \\pmb{u}(t_{n+1}) - \\pmb{u}(t_n) = \\int_{t_n}^{t_{n+1}} \\pmb{F}(t, \\pmb{u}) dt$$\n",
    "\n",
    "Для получения неявного многошагового метода используем для подынтегральной функции интерполяционную формулу по значениям функции $\\pmb{F}^{n+1} = \\pmb{F}(t_{n+1}, \\pmb{y}^{n+1}), \\pmb{F}^n, \\ldots, \\pmb{F}^{n+1-m}$ , т.е.\n",
    "\n",
    "$$\\tag{15} \\frac{\\pmb{y}^{n+1} - \\pmb{y}^n}{\\tau} = \\sum_{i=0}^{m} b_i \\pmb{F}(t_{n+1-i}, \\pmb{y}^{n+1-i})$$\n",
    "\n",
    "Для интерполяционного метода Адамса $(15)$ наивысший порядок аппроксимации равен $m+1$.\n",
    "\n",
    "Для построения явных многошаговых методов можно использовать процедуру экстраполяции подынтегральной функции в правой части $(14)$. В этом случае приближение осуществляется по значениям $\\pmb{F}^n,\\pmb{F}^{n-1}, \\ldots, \\pmb{F}^{n+1-m}$ и поэтому\n",
    "\n",
    "$$\\tag{16} \\frac{\\pmb{y}^{n+1} - \\pmb{y}^n}{\\tau} = \\sum_{i=1}^{m} b_i \\pmb{F}(t_{n+1-i}, \\pmb{y}^{n+1-i})$$\n",
    "\n",
    "Для экстраполяционного метода Адамса $(16)$ погрешность аппроксимации имеет $m$-ый порядок.\n",
    "\n",
    "Примерами методов Адамса $(15), (16)$ при $m=3$ являются\n",
    "\n",
    "$$\\tag{17} \\frac{\\pmb{y}^{n+1} - \\pmb{y}^n}{\\tau} = \\frac{1}{24}(9\\pmb{F}^{n+1} + 19\\pmb{F}^{n} - 5\\pmb{F}^{n-1} + \\pmb{F}^{n-2}),$$\n",
    "$$\\tag{18} \\frac{\\pmb{y}^{n+1} - \\pmb{y}^n}{\\tau} = \\frac{1}{12}(23\\pmb{F}^{n}-16\\pmb{F}^{n-1} + 5\\pmb{F}^{n-2}),$$\n",
    "\n",
    "соответственно.\n",
    "\n",
    "На основе методов Адамса строятся и схемы предиктор–корректор. На этапе предиктор используется явный метод Адамса, на этапе корректора — аналог неявного метода Адамса. Например, при использовании методов третьего порядка аппроксимации в соответствии с $(18)$ для предсказания решения положим\n",
    "\n",
    "$$\\frac{\\pmb{y}^{n+1} - \\pmb{y}^n}{\\tau} = \\frac{1}{12} (23 \\pmb{F}^{n}-16\\pmb{F}^{n-1} + 5\\pmb{F}^{n-2}).$$\n",
    "\n",
    "Для уточнения решения (см. $(17)$) используется схема\n",
    "\n",
    "$$\\frac{\\pmb{y}^{n+1} - \\pmb{y}^n}{\\tau} = \\frac{1}{24} (9\\pmb{F}^{n+1} + 19\\pmb{F}^{n} - 5\\pmb{F}^{n-1} + \\pmb{F}^{n-2}).$$\n",
    "\n",
    "Аналогично строятся и другие классы многошаговых методов."
   ]
  }
 ],
 "metadata": {
  "kernelspec": {
   "display_name": "Python 3",
   "language": "python",
   "name": "python3"
  },
  "language_info": {
   "codemirror_mode": {
    "name": "ipython",
    "version": 3
   },
   "file_extension": ".py",
   "mimetype": "text/x-python",
   "name": "python",
   "nbconvert_exporter": "python",
   "pygments_lexer": "ipython3",
   "version": "3.7.1"
  }
 },
 "nbformat": 4,
 "nbformat_minor": 2
}
